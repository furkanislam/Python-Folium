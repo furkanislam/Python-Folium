{
 "metadata": {
  "language_info": {
   "codemirror_mode": {
    "name": "ipython",
    "version": 3
   },
   "file_extension": ".py",
   "mimetype": "text/x-python",
   "name": "python",
   "nbconvert_exporter": "python",
   "pygments_lexer": "ipython3",
   "version": "3.9.2"
  },
  "orig_nbformat": 2,
  "kernelspec": {
   "name": "python392jvsc74a57bd063fd5069d213b44bf678585dea6b12cceca9941eaf7f819626cde1f2670de90d",
   "display_name": "Python 3.9.2 64-bit"
  },
  "metadata": {
   "interpreter": {
    "hash": "63fd5069d213b44bf678585dea6b12cceca9941eaf7f819626cde1f2670de90d"
   }
  }
 },
 "nbformat": 4,
 "nbformat_minor": 2,
 "cells": [
  {
   "cell_type": "code",
   "execution_count": 5,
   "metadata": {},
   "outputs": [],
   "source": [
    "import folium\n",
    "import pandas as pd"
   ]
  },
  {
   "cell_type": "code",
   "execution_count": 6,
   "metadata": {},
   "outputs": [],
   "source": [
    "turkiye = folium.Map(location=[39.933365, 34.859741], zoom_start=7)\n",
    "data = pd.read_excel(\"veri.xlsx\")\n",
    "idd = list(data[\"ID\"])\n",
    "isim = list(data[\"OKUL ADI\"])\n",
    "bolum = list(data[\"BÖLÜM\"])\n",
    "tur = list(data[\"PUAN TÜRÜ\"])\n",
    "puan = list(data[\"TABAN PUAN\"])\n",
    "sira = list(data[\"BAŞARI SIRASI\"])\n",
    "kont = list(data[\"KONTENJAN\"])\n",
    "enlem = list(data[\"Enlem\"])\n",
    "boylam = list(data[\"Boylam\"])\n",
    "website = list(data[\"Website\"])\n",
    "resim = list(data[\"Resim\"])\n",
    "hrt = folium.FeatureGroup(\"My Map\")"
   ]
  },
  {
   "cell_type": "code",
   "execution_count": 7,
   "metadata": {},
   "outputs": [
    {
     "output_type": "execute_result",
     "data": {
      "text/plain": [
       "    ID                                    OKUL ADI                  BÖLÜM  \\\n",
       "0    1     İSTANBUL TEKNİK ÜNİVERSİTESİ(İNGİLİZCE)  GEOMATİK MÜHENDİSLİĞİ   \n",
       "1    2                İSTANBUL TEKNİK ÜNİVERSİTESİ  GEOMATİK MÜHENDİSLİĞİ   \n",
       "2    3                      HACETTEPE ÜNİVERSİTESİ  GEOMATİK MÜHENDİSLİĞİ   \n",
       "3    4                  YILDIZ TEKNİK ÜNİVERSİTESİ    HARİTA MÜHENDİSLİĞİ   \n",
       "4    5                 AFYON KOCATEPE ÜNİVERSİTESİ    HARİTA MÜHENDİSLİĞİ   \n",
       "5    6                        AKSARAY ÜNİVERSİTESİ    HARİTA MÜHENDİSLİĞİ   \n",
       "6    7               SİVAS CUMHURİYET ÜNİVERSİTESİ    HARİTA MÜHENDİSLİĞİ   \n",
       "7    8                        ERCİYES ÜNİVERSİTESİ    HARİTA MÜHENDİSLİĞİ   \n",
       "8    9                        KOCAELİ ÜNİVERSİTESİ    HARİTA MÜHENDİSLİĞİ   \n",
       "9   10            OSMANİYE KORKUT ATA ÜNİVERSİTESİ    HARİTA MÜHENDİSLİĞİ   \n",
       "10  11                   ARTVİN ÇORUH ÜNİVERSİTESİ    HARİTA MÜHENDİSLİĞİ   \n",
       "11  12  İZMİR KATİP ÇELEBİ ÜNİVERSİTESİ(İNGİLİZCE)    HARİTA MÜHENDİSLİĞİ   \n",
       "12  13                   GEBZE TEKNİK ÜNİVERSİTESİ    HARİTA MÜHENDİSLİĞİ   \n",
       "13  14              NECMETTİN ERBAKAN ÜNİVERSİTESİ    HARİTA MÜHENDİSLİĞİ   \n",
       "14  15                         HARRAN ÜNİVERSİTESİ    HARİTA MÜHENDİSLİĞİ   \n",
       "15  16            TOKAT GAZİOSMANPAŞA ÜNİVERSİTESİ    HARİTA MÜHENDİSLİĞİ   \n",
       "16  17        ZONGULDAK BÜLENT ECEVİT ÜNİVERSİTESİ  GEOMATİK MÜHENDİSLİĞİ   \n",
       "17  18                   KONYA TEKNİK ÜNİVERSİTESİ    HARİTA MÜHENDİSLİĞİ   \n",
       "18  19                         MERSİN ÜNİVERSİTESİ    HARİTA MÜHENDİSLİĞİ   \n",
       "19  20                  ONDOKUZ MAYIS ÜNİVERSİTESİ    HARİTA MÜHENDİSLİĞİ   \n",
       "20  21               KARADENİZ TEKNİK ÜNİVERSİTESİ    HARİTA MÜHENDİSLİĞİ   \n",
       "21  22         ÇANAKKALE ONSEKİZ MART ÜNİVERSİTESİ    HARİTA MÜHENDİSLİĞİ   \n",
       "22  23            AVRASYA ÜNİVERSİTESİ(TAM BURSLU)    HARİTA MÜHENDİSLİĞİ   \n",
       "23  24            AVRASYA ÜNİVERSİTESİ(%50 BURSLU)    HARİTA MÜHENDİSLİĞİ   \n",
       "\n",
       "   PUAN TÜRÜ TABAN PUAN BAŞARI SIRASI  KONTENJAN      Enlem     Boylam  \\\n",
       "0        SAY     416.43        84.109         60  41.105001  29.025114   \n",
       "1        SAY     401.08        98.627         70  41.105001  29.023114   \n",
       "2        SAY     370.73       131.545         60  39.873002  32.731196   \n",
       "3        SAY     355.28       151.526        100  41.052280  29.009770   \n",
       "4        SAY     322,38       205.327         30  38.815236  30.529484   \n",
       "5        SAY     303.93       244.904         20  38.330952  33.984114   \n",
       "6        SAY     293.22       271.918         20  39.708241  37.020253   \n",
       "7        SAY     291.63       276.181         65  38.711351  35.538884   \n",
       "8        SAY     290.61        278.97         60  40.820503  29.921721   \n",
       "9        SAY     290.15       280.208         25  37.038610  36.223903   \n",
       "10       SAY     289.67       281.502         20  41.197830  41.850037   \n",
       "11       SAY     289.48       282.047         70  38.515861  27.030393   \n",
       "12       SAY     288.31       285.337         60  40.809408  29.363670   \n",
       "13       SAY     286.77       289.667         25  37.857092  32.432212   \n",
       "14       SAY     286.52       290.369         20  37.166539  38.995094   \n",
       "15       SAY     284.28       296.866         20  40.332114  36.484013   \n",
       "16       SAY     283.99       297.669         10  41.451036  31.762033   \n",
       "17       SAY     283.88       298.012         70  38.007286  32.517001   \n",
       "18       SAY     283.62       298.747         30  36.785841  34.526908   \n",
       "19       SAY     283.33        299.64         50  41.365130  36.184304   \n",
       "20       SAY     283.22        299.93         80  40.993952  39.775745   \n",
       "21       SAY     283.21       299.984         60  40.111689  26.419322   \n",
       "22       SAY    DOLMADI       DOLMADI          2  40.957039  39.756678   \n",
       "23       SAY    DOLMADI       DOLMADI         13  40.957039  39.759778   \n",
       "\n",
       "                                              Website  \\\n",
       "0                      http://www.geomatik.itu.edu.tr   \n",
       "1                      http://www.geomatik.itu.edu.tr   \n",
       "2                    http://geomatik.hacettepe.edu.tr   \n",
       "3                        http://www.hrm.yildiz.edu.tr   \n",
       "4                      https://muhendislik.aku.edu.tr   \n",
       "5                          https://hmb.aksaray.edu.tr   \n",
       "6              http://geomatik.cumhuriyet.edu.tr/okul   \n",
       "7             https://harita.erciyes.edu.tr/?Anasayfa   \n",
       "8              http://harita.kocaeli.edu.tr/index.php   \n",
       "9                       http://harita.osmaniye.edu.tr   \n",
       "10                       https://harita.artvin.edu.tr   \n",
       "11                             https://ge.ikcu.edu.tr   \n",
       "12  https://www.gtu.edu.tr/kategori/303/3/display....   \n",
       "13  https://www.erbakan.edu.tr/haritamuhendisligi/...   \n",
       "14                    http://web.harran.edu.tr/harita   \n",
       "15  https://muhendislik.gop.edu.tr/Default.aspx?d=...   \n",
       "16                    https://muhendislik.beun.edu.tr   \n",
       "17  https://ktun.edu.tr/tr/Birim/DersIcerik/?brm=m...   \n",
       "18  http://www.mersin.edu.tr/akademik/muhendislik-...   \n",
       "19               http://hrt.muhendislik.omu.edu.tr/tr   \n",
       "20                      https://www.ktu.edu.tr/harita   \n",
       "21              http://harita.muhendislik.comu.edu.tr   \n",
       "22                      https://harita.avrasya.edu.tr   \n",
       "23                      https://harita.avrasya.edu.tr   \n",
       "\n",
       "                                                Resim  \n",
       "0   https://img-s1.onedio.com/id-5d28a1b64407512b2...  \n",
       "1   https://img-s1.onedio.com/id-5d28a1b64407512b2...  \n",
       "2   https://i4.hurimg.com/i/hurriyet/75/1200x675/5...  \n",
       "3   https://i.ytimg.com/vi/26JmrMNWyTE/maxresdefau...  \n",
       "4   https://www.akademikpersonel.org/anasayfa/wp-c...  \n",
       "5   https://www.aksarayhaberleri.gen.tr/images/hab...  \n",
       "6   https://univerlist.com/media/images/university...  \n",
       "7   https://www.egitimtr.net/wp-content/uploads/20...  \n",
       "8   https://static.daktilo.com/sites/330/uploads/2...  \n",
       "9   https://miro.medium.com/max/900/1*eEfFZPPGBV5P...  \n",
       "10  https://img-s2.onedio.com/id-5d249b65416bc3da1...  \n",
       "11  https://cdn.iha.com.tr/Contents/images/2017/20...  \n",
       "12  https://cdn1.ntv.com.tr/gorsel/Z2pC75HbDUCo640...  \n",
       "13  https://i.pstimaj.com/img/75/0x0/5f393ed3ae298...  \n",
       "14  https://www.gazeteipekyol.com/images/resize/95...  \n",
       "15  http://img.gazetevatan.com/vatanmediafile/Habe...  \n",
       "16  https://cdn-photo.pivol.com/16686/imgs/2602202...  \n",
       "17  https://img-s2.onedio.com/id-5f186e3c6f38855d1...  \n",
       "18  https://www.mersinimecehaber.com/images/haberl...  \n",
       "19  https://i.ytimg.com/vi/pxQLBNcWo-0/maxresdefau...  \n",
       "20    https://www.ktu.edu.tr/2020/images/duyuru/1.jpg  \n",
       "21  https://www.nenerede.com.tr/wp-content/uploads...  \n",
       "22  https://mimarlik.avrasya.edu.tr/wp-content/upl...  \n",
       "23  https://mimarlik.avrasya.edu.tr/wp-content/upl...  "
      ],
      "text/html": "<div>\n<style scoped>\n    .dataframe tbody tr th:only-of-type {\n        vertical-align: middle;\n    }\n\n    .dataframe tbody tr th {\n        vertical-align: top;\n    }\n\n    .dataframe thead th {\n        text-align: right;\n    }\n</style>\n<table border=\"1\" class=\"dataframe\">\n  <thead>\n    <tr style=\"text-align: right;\">\n      <th></th>\n      <th>ID</th>\n      <th>OKUL ADI</th>\n      <th>BÖLÜM</th>\n      <th>PUAN TÜRÜ</th>\n      <th>TABAN PUAN</th>\n      <th>BAŞARI SIRASI</th>\n      <th>KONTENJAN</th>\n      <th>Enlem</th>\n      <th>Boylam</th>\n      <th>Website</th>\n      <th>Resim</th>\n    </tr>\n  </thead>\n  <tbody>\n    <tr>\n      <th>0</th>\n      <td>1</td>\n      <td>İSTANBUL TEKNİK ÜNİVERSİTESİ(İNGİLİZCE)</td>\n      <td>GEOMATİK MÜHENDİSLİĞİ</td>\n      <td>SAY</td>\n      <td>416.43</td>\n      <td>84.109</td>\n      <td>60</td>\n      <td>41.105001</td>\n      <td>29.025114</td>\n      <td>http://www.geomatik.itu.edu.tr</td>\n      <td>https://img-s1.onedio.com/id-5d28a1b64407512b2...</td>\n    </tr>\n    <tr>\n      <th>1</th>\n      <td>2</td>\n      <td>İSTANBUL TEKNİK ÜNİVERSİTESİ</td>\n      <td>GEOMATİK MÜHENDİSLİĞİ</td>\n      <td>SAY</td>\n      <td>401.08</td>\n      <td>98.627</td>\n      <td>70</td>\n      <td>41.105001</td>\n      <td>29.023114</td>\n      <td>http://www.geomatik.itu.edu.tr</td>\n      <td>https://img-s1.onedio.com/id-5d28a1b64407512b2...</td>\n    </tr>\n    <tr>\n      <th>2</th>\n      <td>3</td>\n      <td>HACETTEPE ÜNİVERSİTESİ</td>\n      <td>GEOMATİK MÜHENDİSLİĞİ</td>\n      <td>SAY</td>\n      <td>370.73</td>\n      <td>131.545</td>\n      <td>60</td>\n      <td>39.873002</td>\n      <td>32.731196</td>\n      <td>http://geomatik.hacettepe.edu.tr</td>\n      <td>https://i4.hurimg.com/i/hurriyet/75/1200x675/5...</td>\n    </tr>\n    <tr>\n      <th>3</th>\n      <td>4</td>\n      <td>YILDIZ TEKNİK ÜNİVERSİTESİ</td>\n      <td>HARİTA MÜHENDİSLİĞİ</td>\n      <td>SAY</td>\n      <td>355.28</td>\n      <td>151.526</td>\n      <td>100</td>\n      <td>41.052280</td>\n      <td>29.009770</td>\n      <td>http://www.hrm.yildiz.edu.tr</td>\n      <td>https://i.ytimg.com/vi/26JmrMNWyTE/maxresdefau...</td>\n    </tr>\n    <tr>\n      <th>4</th>\n      <td>5</td>\n      <td>AFYON KOCATEPE ÜNİVERSİTESİ</td>\n      <td>HARİTA MÜHENDİSLİĞİ</td>\n      <td>SAY</td>\n      <td>322,38</td>\n      <td>205.327</td>\n      <td>30</td>\n      <td>38.815236</td>\n      <td>30.529484</td>\n      <td>https://muhendislik.aku.edu.tr</td>\n      <td>https://www.akademikpersonel.org/anasayfa/wp-c...</td>\n    </tr>\n    <tr>\n      <th>5</th>\n      <td>6</td>\n      <td>AKSARAY ÜNİVERSİTESİ</td>\n      <td>HARİTA MÜHENDİSLİĞİ</td>\n      <td>SAY</td>\n      <td>303.93</td>\n      <td>244.904</td>\n      <td>20</td>\n      <td>38.330952</td>\n      <td>33.984114</td>\n      <td>https://hmb.aksaray.edu.tr</td>\n      <td>https://www.aksarayhaberleri.gen.tr/images/hab...</td>\n    </tr>\n    <tr>\n      <th>6</th>\n      <td>7</td>\n      <td>SİVAS CUMHURİYET ÜNİVERSİTESİ</td>\n      <td>HARİTA MÜHENDİSLİĞİ</td>\n      <td>SAY</td>\n      <td>293.22</td>\n      <td>271.918</td>\n      <td>20</td>\n      <td>39.708241</td>\n      <td>37.020253</td>\n      <td>http://geomatik.cumhuriyet.edu.tr/okul</td>\n      <td>https://univerlist.com/media/images/university...</td>\n    </tr>\n    <tr>\n      <th>7</th>\n      <td>8</td>\n      <td>ERCİYES ÜNİVERSİTESİ</td>\n      <td>HARİTA MÜHENDİSLİĞİ</td>\n      <td>SAY</td>\n      <td>291.63</td>\n      <td>276.181</td>\n      <td>65</td>\n      <td>38.711351</td>\n      <td>35.538884</td>\n      <td>https://harita.erciyes.edu.tr/?Anasayfa</td>\n      <td>https://www.egitimtr.net/wp-content/uploads/20...</td>\n    </tr>\n    <tr>\n      <th>8</th>\n      <td>9</td>\n      <td>KOCAELİ ÜNİVERSİTESİ</td>\n      <td>HARİTA MÜHENDİSLİĞİ</td>\n      <td>SAY</td>\n      <td>290.61</td>\n      <td>278.97</td>\n      <td>60</td>\n      <td>40.820503</td>\n      <td>29.921721</td>\n      <td>http://harita.kocaeli.edu.tr/index.php</td>\n      <td>https://static.daktilo.com/sites/330/uploads/2...</td>\n    </tr>\n    <tr>\n      <th>9</th>\n      <td>10</td>\n      <td>OSMANİYE KORKUT ATA ÜNİVERSİTESİ</td>\n      <td>HARİTA MÜHENDİSLİĞİ</td>\n      <td>SAY</td>\n      <td>290.15</td>\n      <td>280.208</td>\n      <td>25</td>\n      <td>37.038610</td>\n      <td>36.223903</td>\n      <td>http://harita.osmaniye.edu.tr</td>\n      <td>https://miro.medium.com/max/900/1*eEfFZPPGBV5P...</td>\n    </tr>\n    <tr>\n      <th>10</th>\n      <td>11</td>\n      <td>ARTVİN ÇORUH ÜNİVERSİTESİ</td>\n      <td>HARİTA MÜHENDİSLİĞİ</td>\n      <td>SAY</td>\n      <td>289.67</td>\n      <td>281.502</td>\n      <td>20</td>\n      <td>41.197830</td>\n      <td>41.850037</td>\n      <td>https://harita.artvin.edu.tr</td>\n      <td>https://img-s2.onedio.com/id-5d249b65416bc3da1...</td>\n    </tr>\n    <tr>\n      <th>11</th>\n      <td>12</td>\n      <td>İZMİR KATİP ÇELEBİ ÜNİVERSİTESİ(İNGİLİZCE)</td>\n      <td>HARİTA MÜHENDİSLİĞİ</td>\n      <td>SAY</td>\n      <td>289.48</td>\n      <td>282.047</td>\n      <td>70</td>\n      <td>38.515861</td>\n      <td>27.030393</td>\n      <td>https://ge.ikcu.edu.tr</td>\n      <td>https://cdn.iha.com.tr/Contents/images/2017/20...</td>\n    </tr>\n    <tr>\n      <th>12</th>\n      <td>13</td>\n      <td>GEBZE TEKNİK ÜNİVERSİTESİ</td>\n      <td>HARİTA MÜHENDİSLİĞİ</td>\n      <td>SAY</td>\n      <td>288.31</td>\n      <td>285.337</td>\n      <td>60</td>\n      <td>40.809408</td>\n      <td>29.363670</td>\n      <td>https://www.gtu.edu.tr/kategori/303/3/display....</td>\n      <td>https://cdn1.ntv.com.tr/gorsel/Z2pC75HbDUCo640...</td>\n    </tr>\n    <tr>\n      <th>13</th>\n      <td>14</td>\n      <td>NECMETTİN ERBAKAN ÜNİVERSİTESİ</td>\n      <td>HARİTA MÜHENDİSLİĞİ</td>\n      <td>SAY</td>\n      <td>286.77</td>\n      <td>289.667</td>\n      <td>25</td>\n      <td>37.857092</td>\n      <td>32.432212</td>\n      <td>https://www.erbakan.edu.tr/haritamuhendisligi/...</td>\n      <td>https://i.pstimaj.com/img/75/0x0/5f393ed3ae298...</td>\n    </tr>\n    <tr>\n      <th>14</th>\n      <td>15</td>\n      <td>HARRAN ÜNİVERSİTESİ</td>\n      <td>HARİTA MÜHENDİSLİĞİ</td>\n      <td>SAY</td>\n      <td>286.52</td>\n      <td>290.369</td>\n      <td>20</td>\n      <td>37.166539</td>\n      <td>38.995094</td>\n      <td>http://web.harran.edu.tr/harita</td>\n      <td>https://www.gazeteipekyol.com/images/resize/95...</td>\n    </tr>\n    <tr>\n      <th>15</th>\n      <td>16</td>\n      <td>TOKAT GAZİOSMANPAŞA ÜNİVERSİTESİ</td>\n      <td>HARİTA MÜHENDİSLİĞİ</td>\n      <td>SAY</td>\n      <td>284.28</td>\n      <td>296.866</td>\n      <td>20</td>\n      <td>40.332114</td>\n      <td>36.484013</td>\n      <td>https://muhendislik.gop.edu.tr/Default.aspx?d=...</td>\n      <td>http://img.gazetevatan.com/vatanmediafile/Habe...</td>\n    </tr>\n    <tr>\n      <th>16</th>\n      <td>17</td>\n      <td>ZONGULDAK BÜLENT ECEVİT ÜNİVERSİTESİ</td>\n      <td>GEOMATİK MÜHENDİSLİĞİ</td>\n      <td>SAY</td>\n      <td>283.99</td>\n      <td>297.669</td>\n      <td>10</td>\n      <td>41.451036</td>\n      <td>31.762033</td>\n      <td>https://muhendislik.beun.edu.tr</td>\n      <td>https://cdn-photo.pivol.com/16686/imgs/2602202...</td>\n    </tr>\n    <tr>\n      <th>17</th>\n      <td>18</td>\n      <td>KONYA TEKNİK ÜNİVERSİTESİ</td>\n      <td>HARİTA MÜHENDİSLİĞİ</td>\n      <td>SAY</td>\n      <td>283.88</td>\n      <td>298.012</td>\n      <td>70</td>\n      <td>38.007286</td>\n      <td>32.517001</td>\n      <td>https://ktun.edu.tr/tr/Birim/DersIcerik/?brm=m...</td>\n      <td>https://img-s2.onedio.com/id-5f186e3c6f38855d1...</td>\n    </tr>\n    <tr>\n      <th>18</th>\n      <td>19</td>\n      <td>MERSİN ÜNİVERSİTESİ</td>\n      <td>HARİTA MÜHENDİSLİĞİ</td>\n      <td>SAY</td>\n      <td>283.62</td>\n      <td>298.747</td>\n      <td>30</td>\n      <td>36.785841</td>\n      <td>34.526908</td>\n      <td>http://www.mersin.edu.tr/akademik/muhendislik-...</td>\n      <td>https://www.mersinimecehaber.com/images/haberl...</td>\n    </tr>\n    <tr>\n      <th>19</th>\n      <td>20</td>\n      <td>ONDOKUZ MAYIS ÜNİVERSİTESİ</td>\n      <td>HARİTA MÜHENDİSLİĞİ</td>\n      <td>SAY</td>\n      <td>283.33</td>\n      <td>299.64</td>\n      <td>50</td>\n      <td>41.365130</td>\n      <td>36.184304</td>\n      <td>http://hrt.muhendislik.omu.edu.tr/tr</td>\n      <td>https://i.ytimg.com/vi/pxQLBNcWo-0/maxresdefau...</td>\n    </tr>\n    <tr>\n      <th>20</th>\n      <td>21</td>\n      <td>KARADENİZ TEKNİK ÜNİVERSİTESİ</td>\n      <td>HARİTA MÜHENDİSLİĞİ</td>\n      <td>SAY</td>\n      <td>283.22</td>\n      <td>299.93</td>\n      <td>80</td>\n      <td>40.993952</td>\n      <td>39.775745</td>\n      <td>https://www.ktu.edu.tr/harita</td>\n      <td>https://www.ktu.edu.tr/2020/images/duyuru/1.jpg</td>\n    </tr>\n    <tr>\n      <th>21</th>\n      <td>22</td>\n      <td>ÇANAKKALE ONSEKİZ MART ÜNİVERSİTESİ</td>\n      <td>HARİTA MÜHENDİSLİĞİ</td>\n      <td>SAY</td>\n      <td>283.21</td>\n      <td>299.984</td>\n      <td>60</td>\n      <td>40.111689</td>\n      <td>26.419322</td>\n      <td>http://harita.muhendislik.comu.edu.tr</td>\n      <td>https://www.nenerede.com.tr/wp-content/uploads...</td>\n    </tr>\n    <tr>\n      <th>22</th>\n      <td>23</td>\n      <td>AVRASYA ÜNİVERSİTESİ(TAM BURSLU)</td>\n      <td>HARİTA MÜHENDİSLİĞİ</td>\n      <td>SAY</td>\n      <td>DOLMADI</td>\n      <td>DOLMADI</td>\n      <td>2</td>\n      <td>40.957039</td>\n      <td>39.756678</td>\n      <td>https://harita.avrasya.edu.tr</td>\n      <td>https://mimarlik.avrasya.edu.tr/wp-content/upl...</td>\n    </tr>\n    <tr>\n      <th>23</th>\n      <td>24</td>\n      <td>AVRASYA ÜNİVERSİTESİ(%50 BURSLU)</td>\n      <td>HARİTA MÜHENDİSLİĞİ</td>\n      <td>SAY</td>\n      <td>DOLMADI</td>\n      <td>DOLMADI</td>\n      <td>13</td>\n      <td>40.957039</td>\n      <td>39.759778</td>\n      <td>https://harita.avrasya.edu.tr</td>\n      <td>https://mimarlik.avrasya.edu.tr/wp-content/upl...</td>\n    </tr>\n  </tbody>\n</table>\n</div>"
     },
     "metadata": {},
     "execution_count": 7
    }
   ],
   "source": [
    "okul = pd.read_excel(\"veri.xlsx\")\n",
    "okul"
   ]
  },
  {
   "cell_type": "code",
   "execution_count": 8,
   "metadata": {},
   "outputs": [],
   "source": [
    "for sira,adi,bol,ptur,point,bsira,kon,en,boy,web,pic in zip(idd,isim,bolum,tur,puan,sira,kont,enlem,boylam,website,resim):\n",
    "    hrt.add_child(folium.Marker(location=[en,boy],icon=folium.Icon(icon=\"fa-graduation-cap\",prefix='fa'),popup=\"<b>OKUL ADI : </b>\"+adi+ \"<br> <b>BÖLÜM ADI: </b> \"+bol+\"<br> <b>PUAN TÜRÜ: </b> \"+ptur+\"<br> <b>TABAN PUANI : </b> \"+str(point)+\"<br> <b>BAŞARI SIRASI : </b> \"+str(bsira)+\"<br> <b>KONTENJAN : </b> \"+str(kon)+\"<br><b>WEBSİTE : </b><a href=\"+web+\">Tıklayınız</a>\"+\"<br> <img src=\"+pic+\" height=142 width=290>\"))\n",
    "turkiye.add_child(hrt)\n",
    "turkiye.save(\"harita.html\")\n",
    "hrt"
   ]
  }
 ]
}